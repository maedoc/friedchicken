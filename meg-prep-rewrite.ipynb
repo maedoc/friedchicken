{
 "cells": [
  {
   "cell_type": "markdown",
   "id": "1a8b4678-44dd-432e-ac50-d623ca7ea83d",
   "metadata": {},
   "source": [
    "# meg prep rewrite\n",
    "\n",
    "This brings together a bunch of steps into a straight line for simpler use.\n",
    "\n",
    "Some remaining questions\n",
    "\n",
    "- invoke brainstorm with MCR\n",
    "  - still need to automate creating the protocol\n",
    "  - check the scripts can dump the plain .mat files\n",
    "- automate clean up when results are done (or not, if we want to keep the protocol)\n",
    "- sync processed results to s3/hf\n",
    "- move data to the mode space, short time fourier transform"
   ]
  },
  {
   "cell_type": "code",
   "execution_count": 1,
   "id": "1ef976e2-002a-41be-b7b6-2730372a8c05",
   "metadata": {
    "tags": []
   },
   "outputs": [
    {
     "name": "stdout",
     "output_type": "stream",
     "text": [
      "Collecting boto3\n",
      "  Downloading boto3-1.29.6-py3-none-any.whl.metadata (6.7 kB)\n",
      "Collecting tvb-gdist\n",
      "  Downloading tvb_gdist-2.2-cp311-cp311-manylinux_2_17_x86_64.manylinux2014_x86_64.whl (752 kB)\n",
      "\u001b[2K     \u001b[38;2;114;156;31m━━━━━━━━━━━━━━━━━━━━━━━━━━━━━━━━━━━━━━━\u001b[0m \u001b[32m752.4/752.4 kB\u001b[0m \u001b[31m9.0 MB/s\u001b[0m eta \u001b[36m0:00:00\u001b[0mm eta \u001b[36m0:00:01\u001b[0m0:01\u001b[0m\n",
      "\u001b[?25hCollecting botocore<1.33.0,>=1.32.6 (from boto3)\n",
      "  Downloading botocore-1.32.6-py3-none-any.whl.metadata (6.1 kB)\n",
      "Collecting jmespath<2.0.0,>=0.7.1 (from boto3)\n",
      "  Downloading jmespath-1.0.1-py3-none-any.whl (20 kB)\n",
      "Collecting s3transfer<0.8.0,>=0.7.0 (from boto3)\n",
      "  Downloading s3transfer-0.7.0-py3-none-any.whl.metadata (1.8 kB)\n",
      "Requirement already satisfied: numpy in /home/duke/miniconda3/envs/friedchicken/lib/python3.11/site-packages (from tvb-gdist) (1.26.0)\n",
      "Requirement already satisfied: scipy in /home/duke/miniconda3/envs/friedchicken/lib/python3.11/site-packages (from tvb-gdist) (1.11.3)\n",
      "Collecting cython (from tvb-gdist)\n",
      "  Downloading Cython-3.0.5-cp311-cp311-manylinux_2_17_x86_64.manylinux2014_x86_64.whl.metadata (3.2 kB)\n",
      "Requirement already satisfied: python-dateutil<3.0.0,>=2.1 in /home/duke/miniconda3/envs/friedchicken/lib/python3.11/site-packages (from botocore<1.33.0,>=1.32.6->boto3) (2.8.2)\n",
      "Requirement already satisfied: urllib3<2.1,>=1.25.4 in /home/duke/miniconda3/envs/friedchicken/lib/python3.11/site-packages (from botocore<1.33.0,>=1.32.6->boto3) (1.26.18)\n",
      "Requirement already satisfied: six>=1.5 in /home/duke/miniconda3/envs/friedchicken/lib/python3.11/site-packages (from python-dateutil<3.0.0,>=2.1->botocore<1.33.0,>=1.32.6->boto3) (1.16.0)\n",
      "Downloading boto3-1.29.6-py3-none-any.whl (135 kB)\n",
      "\u001b[2K   \u001b[38;2;114;156;31m━━━━━━━━━━━━━━━━━━━━━━━━━━━━━━━━━━━━━━━━\u001b[0m \u001b[32m135.8/135.8 kB\u001b[0m \u001b[31m13.5 MB/s\u001b[0m eta \u001b[36m0:00:00\u001b[0m\n",
      "\u001b[?25hDownloading botocore-1.32.6-py3-none-any.whl (11.5 MB)\n",
      "\u001b[2K   \u001b[38;2;114;156;31m━━━━━━━━━━━━━━━━━━━━━━━━━━━━━━━━━━━━━━━━\u001b[0m \u001b[32m11.5/11.5 MB\u001b[0m \u001b[31m57.8 MB/s\u001b[0m eta \u001b[36m0:00:00\u001b[0mm eta \u001b[36m0:00:01\u001b[0m:01\u001b[0m\n",
      "\u001b[?25hDownloading s3transfer-0.7.0-py3-none-any.whl (79 kB)\n",
      "\u001b[2K   \u001b[38;2;114;156;31m━━━━━━━━━━━━━━━━━━━━━━━━━━━━━━━━━━━━━━━━\u001b[0m \u001b[32m79.8/79.8 kB\u001b[0m \u001b[31m8.8 MB/s\u001b[0m eta \u001b[36m0:00:00\u001b[0m\n",
      "\u001b[?25hDownloading Cython-3.0.5-cp311-cp311-manylinux_2_17_x86_64.manylinux2014_x86_64.whl (3.6 MB)\n",
      "\u001b[2K   \u001b[38;2;114;156;31m━━━━━━━━━━━━━━━━━━━━━━━━━━━━━━━━━━━━━━━━\u001b[0m \u001b[32m3.6/3.6 MB\u001b[0m \u001b[31m47.2 MB/s\u001b[0m eta \u001b[36m0:00:00\u001b[0mm eta \u001b[36m0:00:01\u001b[0m[36m0:00:01\u001b[0m\n",
      "\u001b[?25hInstalling collected packages: jmespath, cython, tvb-gdist, botocore, s3transfer, boto3\n",
      "Successfully installed boto3-1.29.6 botocore-1.32.6 cython-3.0.5 jmespath-1.0.1 s3transfer-0.7.0 tvb-gdist-2.2\n",
      "Note: you may need to restart the kernel to use updated packages.\n"
     ]
    }
   ],
   "source": [
    "%pip install boto3 tvb-gdist mne"
   ]
  },
  {
   "cell_type": "code",
   "execution_count": 4,
   "id": "a1364342-e44b-4d78-b892-9892332180da",
   "metadata": {
    "tags": []
   },
   "outputs": [],
   "source": [
    "import os, json"
   ]
  },
  {
   "cell_type": "markdown",
   "id": "1db2581e-363b-45c1-b80c-753b0fb089e3",
   "metadata": {},
   "source": [
    "here you need your own credentials from https://db.humanconnectome.org"
   ]
  },
  {
   "cell_type": "code",
   "execution_count": 1,
   "id": "71d46e77-81a5-4719-8779-627f5deb191e",
   "metadata": {
    "tags": []
   },
   "outputs": [],
   "source": [
    "import boto3\n",
    "\n",
    "client = boto3.client('s3', \n",
    "                     aws_access_key_id='nope',\n",
    "                     aws_secret_access_key='nopenope')"
   ]
  },
  {
   "cell_type": "code",
   "execution_count": 130,
   "id": "fa1970ec-ea7c-4676-a071-8b5b6a5e28ec",
   "metadata": {
    "tags": []
   },
   "outputs": [],
   "source": [
    "sid = '162026'\n",
    "\n",
    "objects = client.list_objects(\n",
    "    Bucket='hcp-openaccess',\n",
    "    Prefix=f'HCP_1200/{sid}/MEG/anatomy')"
   ]
  },
  {
   "cell_type": "code",
   "execution_count": 131,
   "id": "e4306b6e-fb89-44d0-9238-1da56665ec7a",
   "metadata": {
    "tags": []
   },
   "outputs": [
    {
     "data": {
      "text/plain": [
       "'162026.L.inflated.4k_fs_LR.surf.gii'"
      ]
     },
     "execution_count": 131,
     "metadata": {},
     "output_type": "execute_result"
    }
   ],
   "source": [
    "os.path.basename(objects['Contents'][0]['Key'])"
   ]
  },
  {
   "cell_type": "code",
   "execution_count": 132,
   "id": "22ceaef6-2b09-40c5-bde0-edded8e6912d",
   "metadata": {
    "tags": []
   },
   "outputs": [],
   "source": [
    "anat_dir = f'/tmp/hcp/{sid}/anatomy'\n",
    "os.makedirs(anat_dir, exist_ok=True)"
   ]
  },
  {
   "cell_type": "code",
   "execution_count": 133,
   "id": "412533f4-73e4-4f57-8431-7940f5435981",
   "metadata": {
    "tags": []
   },
   "outputs": [
    {
     "name": "stdout",
     "output_type": "stream",
     "text": [
      "downloading /tmp/hcp/162026/anatomy/162026.L.inflated.4k_fs_LR.surf.gii\n",
      "downloading /tmp/hcp/162026/anatomy/162026.L.midthickness.4k_fs_LR.surf.gii\n",
      "downloading /tmp/hcp/162026/anatomy/162026.R.inflated.4k_fs_LR.surf.gii\n",
      "downloading /tmp/hcp/162026/anatomy/162026.R.midthickness.4k_fs_LR.surf.gii\n",
      "downloading /tmp/hcp/162026/anatomy/162026_MEG_anatomy_headmodel.mat\n",
      "downloading /tmp/hcp/162026/anatomy/162026_MEG_anatomy_sourcemodel_2d.mat\n",
      "downloading /tmp/hcp/162026/anatomy/162026_MEG_anatomy_sourcemodel_3d4mm.mat\n",
      "downloading /tmp/hcp/162026/anatomy/162026_MEG_anatomy_sourcemodel_3d6mm.mat\n",
      "downloading /tmp/hcp/162026/anatomy/162026_MEG_anatomy_sourcemodel_3d8mm.mat\n",
      "downloading /tmp/hcp/162026/anatomy/162026_MEG_anatomy_transform.txt\n",
      "downloading /tmp/hcp/162026/anatomy/T1w_acpc_dc_restore.nii.gz\n",
      "downloading /tmp/hcp/162026/anatomy/162026_MEG_anatomy_headmodel.png\n",
      "downloading /tmp/hcp/162026/anatomy/162026_MEG_anatomy_sourcemodel_2d.png\n",
      "downloading /tmp/hcp/162026/anatomy/162026_MEG_anatomy_sourcemodel_3d4mm.png\n",
      "downloading /tmp/hcp/162026/anatomy/162026_MEG_anatomy_sourcemodel_3d6mm.png\n",
      "downloading /tmp/hcp/162026/anatomy/162026_MEG_anatomy_sourcemodel_3d8mm.png\n",
      "downloading /tmp/hcp/162026/anatomy/162026_MEG_anatomy_headmodel.png.xml\n",
      "downloading /tmp/hcp/162026/anatomy/162026_MEG_anatomy_sourcemodel_2d.png.xml\n",
      "downloading /tmp/hcp/162026/anatomy/162026_MEG_anatomy_sourcemodel_3d4mm.png.xml\n",
      "downloading /tmp/hcp/162026/anatomy/162026_MEG_anatomy_sourcemodel_3d6mm.png.xml\n",
      "downloading /tmp/hcp/162026/anatomy/162026_MEG_anatomy_sourcemodel_3d8mm.png.xml\n",
      "downloading /tmp/hcp/162026/anatomy/162026_MEG_anatomy_headmodel.mat.xml\n",
      "downloading /tmp/hcp/162026/anatomy/162026_MEG_anatomy_sourcemodel_2d.mat.xml\n",
      "downloading /tmp/hcp/162026/anatomy/162026_MEG_anatomy_sourcemodel_3d4mm.mat.xml\n",
      "downloading /tmp/hcp/162026/anatomy/162026_MEG_anatomy_sourcemodel_3d6mm.mat.xml\n",
      "downloading /tmp/hcp/162026/anatomy/162026_MEG_anatomy_sourcemodel_3d8mm.mat.xml\n",
      "downloading /tmp/hcp/162026/anatomy/162026_MEG_anatomy_transform.txt.xml\n"
     ]
    }
   ],
   "source": [
    "for s3obj in objects['Contents']:\n",
    "    s3path = s3obj['Key']\n",
    "    dlpath = os.path.join(anat_dir, os.path.basename(s3path))\n",
    "    print('downloading', dlpath, end='', flush=True)\n",
    "    client.download_file('hcp-openaccess', s3path, dlpath)\n",
    "    print(flush=True)"
   ]
  },
  {
   "cell_type": "code",
   "execution_count": 134,
   "id": "d11c6e0e-7539-4363-8ba1-bc2738390bf9",
   "metadata": {
    "tags": []
   },
   "outputs": [],
   "source": [
    "# HCP_1200/%s/unprocessed/MEG/*/4D/c,rfDC\n",
    "\n",
    "raw_dir = f'/tmp/hcp/{sid}/raw'\n",
    "objects = client.list_objects(\n",
    "    Bucket='hcp-openaccess',\n",
    "    Prefix=f'HCP_1200/{sid}/unprocessed/MEG')"
   ]
  },
  {
   "cell_type": "code",
   "execution_count": 135,
   "id": "f87e71ee-39dc-4efd-9a58-a0eefc79897b",
   "metadata": {
    "tags": []
   },
   "outputs": [
    {
     "name": "stdout",
     "output_type": "stream",
     "text": [
      "downloading /tmp/hcp/162026/raw/1-Rnoise/c,rfDC\n",
      "downloading /tmp/hcp/162026/raw/1-Rnoise/config\n",
      "downloading /tmp/hcp/162026/raw/10-Motort/c,rfDC\n",
      "downloading /tmp/hcp/162026/raw/10-Motort/config\n",
      "downloading /tmp/hcp/162026/raw/10-Motort/e,rfhp1.0Hz,COH\n",
      "downloading /tmp/hcp/162026/raw/10-Motort/e,rfhp1.0Hz,COH1\n",
      "downloading /tmp/hcp/162026/raw/10-Motort/162026_MEG_Motort_run1.tab\n",
      "downloading /tmp/hcp/162026/raw/10-Motort/162026_MEG_Motort_run1.xlsx\n",
      "downloading /tmp/hcp/162026/raw/11-Motort/c,rfDC\n",
      "downloading /tmp/hcp/162026/raw/11-Motort/config\n",
      "downloading /tmp/hcp/162026/raw/11-Motort/e,rfhp1.0Hz,COH\n",
      "downloading /tmp/hcp/162026/raw/11-Motort/e,rfhp1.0Hz,COH1\n",
      "downloading /tmp/hcp/162026/raw/11-Motort/162026_MEG_Motort_run2.tab\n",
      "downloading /tmp/hcp/162026/raw/11-Motort/162026_MEG_Motort_run2.xlsx\n",
      "downloading /tmp/hcp/162026/raw/2-Pnoise/c,rfDC\n",
      "downloading /tmp/hcp/162026/raw/2-Pnoise/config\n",
      "downloading /tmp/hcp/162026/raw/3-Restin/c,rfDC\n",
      "downloading /tmp/hcp/162026/raw/3-Restin/config\n",
      "downloading /tmp/hcp/162026/raw/3-Restin/e,rfhp1.0Hz,COH\n",
      "downloading /tmp/hcp/162026/raw/3-Restin/e,rfhp1.0Hz,COH1\n",
      "downloading /tmp/hcp/162026/raw/4-Restin/c,rfDC\n",
      "downloading /tmp/hcp/162026/raw/4-Restin/config\n",
      "downloading /tmp/hcp/162026/raw/4-Restin/e,rfhp1.0Hz,COH\n",
      "downloading /tmp/hcp/162026/raw/4-Restin/e,rfhp1.0Hz,COH1\n",
      "downloading /tmp/hcp/162026/raw/5-Restin/c,rfDC\n",
      "downloading /tmp/hcp/162026/raw/5-Restin/config\n",
      "downloading /tmp/hcp/162026/raw/5-Restin/e,rfhp1.0Hz,COH\n",
      "downloading /tmp/hcp/162026/raw/5-Restin/e,rfhp1.0Hz,COH1\n",
      "downloading /tmp/hcp/162026/raw/6-Wrkmem/c,rfDC\n",
      "downloading /tmp/hcp/162026/raw/6-Wrkmem/config\n",
      "downloading /tmp/hcp/162026/raw/6-Wrkmem/e,rfhp1.0Hz,COH\n",
      "downloading /tmp/hcp/162026/raw/6-Wrkmem/e,rfhp1.0Hz,COH1\n",
      "downloading /tmp/hcp/162026/raw/6-Wrkmem/162026_MEG_Wrkmem_run1.tab\n",
      "downloading /tmp/hcp/162026/raw/6-Wrkmem/162026_MEG_Wrkmem_run1.xlsx\n",
      "downloading /tmp/hcp/162026/raw/7-Wrkmem/c,rfDC\n",
      "downloading /tmp/hcp/162026/raw/7-Wrkmem/config\n",
      "downloading /tmp/hcp/162026/raw/7-Wrkmem/e,rfhp1.0Hz,COH\n",
      "downloading /tmp/hcp/162026/raw/7-Wrkmem/e,rfhp1.0Hz,COH1\n",
      "downloading /tmp/hcp/162026/raw/7-Wrkmem/162026_MEG_Wrkmem_run2.tab\n",
      "downloading /tmp/hcp/162026/raw/7-Wrkmem/162026_MEG_Wrkmem_run2.xlsx\n",
      "downloading /tmp/hcp/162026/raw/8-StoryM/c,rfDC\n",
      "downloading /tmp/hcp/162026/raw/8-StoryM/config\n",
      "downloading /tmp/hcp/162026/raw/8-StoryM/e,rfhp1.0Hz,COH\n",
      "downloading /tmp/hcp/162026/raw/8-StoryM/e,rfhp1.0Hz,COH1\n",
      "downloading /tmp/hcp/162026/raw/8-StoryM/162026_MEG_StoryM_run1.tab\n",
      "downloading /tmp/hcp/162026/raw/8-StoryM/162026_MEG_StoryM_run1.xlsx\n",
      "downloading /tmp/hcp/162026/raw/9-StoryM/c,rfDC\n",
      "downloading /tmp/hcp/162026/raw/9-StoryM/config\n",
      "downloading /tmp/hcp/162026/raw/9-StoryM/e,rfhp1.0Hz,COH\n",
      "downloading /tmp/hcp/162026/raw/9-StoryM/e,rfhp1.0Hz,COH1\n",
      "downloading /tmp/hcp/162026/raw/9-StoryM/162026_MEG_StoryM_run2.tab\n",
      "downloading /tmp/hcp/162026/raw/9-StoryM/162026_MEG_StoryM_run2.xlsx\n"
     ]
    }
   ],
   "source": [
    "for obj in objects['Contents']:\n",
    "    # print(obj['Key'], obj['Size']//1024, 'KB')\n",
    "    key = obj['Key']\n",
    "    fname = os.path.basename(key)\n",
    "    _hcp, _sid, _unproc, _meg, task, _4d = os.path.dirname(key).split(os.sep)\n",
    "    dlpath = f'{raw_dir}/{task}/{fname}'\n",
    "    os.makedirs(os.path.dirname(dlpath), exist_ok=True)\n",
    "\n",
    "    \n",
    "    print('downloading', dlpath, end='', flush=True)\n",
    "    client.download_file('hcp-openaccess', key, dlpath)\n",
    "    print(flush=True)"
   ]
  },
  {
   "cell_type": "markdown",
   "id": "cc3b017e-9137-41d6-aaf4-ad9c8ebe6c3c",
   "metadata": {},
   "source": [
    "<h2> stop! </h2>\n",
    "\n",
    "go run `megfield_pp0_new_subject` and `megfield_pp2` and the export function seem to run fine."
   ]
  },
  {
   "cell_type": "code",
   "execution_count": null,
   "id": "422c5fe7-13fb-4e31-97bd-925610318e9c",
   "metadata": {
    "collapsed": true,
    "jupyter": {
     "outputs_hidden": true
    }
   },
   "outputs": [],
   "source": [
    "!./brainstorm3.command /usr/local/MATLAB/MATLAB_Runtime/R2023b megfield_pp0_new_subject.m 162026"
   ]
  },
  {
   "cell_type": "code",
   "execution_count": 145,
   "id": "fb6f1fda-0b23-4199-8bbd-b346588d8d5d",
   "metadata": {},
   "outputs": [
    {
     "name": "stdout",
     "output_type": "stream",
     "text": [
      " \n",
      "Please wait...\n",
      " \n",
      "If it hangs for more than a few minutes: try pressing ENTER.\n",
      "Alternatively, download Brainstorm for a different version of the Matlab Runtime.\n",
      "(See the installation instructions on the Brainstorm website)\n",
      " \n",
      "Gtk-\u001b[1;32mMessage\u001b[0m: \u001b[34m13:34:28.275\u001b[0m: Failed to load module \"canberra-gtk-module\"\n",
      " \n",
      "BST> Starting Brainstorm:\n",
      "BST> =================================\n",
      "BST> BrainstormHomeDir = /home/duke/.mcrCache23.2/bst_ja0/bst_javabuil\n",
      "BST> Version: 04-Oct-2023\n",
      "BST> Deleting old process reports...\n",
      "BST> Loading configuration file...\n",
      "BST> Plugin brain2mesh: /home/duke/.mcrCache23.2/bst_ja0/Users/rcassani/.brainstorm/plugins/brain2mesh\n",
      "BST> Plugin iso2mesh: /home/duke/.mcrCache23.2/bst_ja0/Users/rcassani/.brainstorm/plugins/iso2mesh\n",
      "BST> Plugin brainentropy: /home/duke/.mcrCache23.2/bst_ja0/Users/rcassani/.brainstorm/plugins/brainentropy\n",
      "BST> Plugin blackrock: /home/duke/.mcrCache23.2/bst_ja0/Users/rcassani/.brainstorm/plugins/blackrock\n",
      "BST> Plugin neuroelectrics: /home/duke/.mcrCache23.2/bst_ja0/Users/rcassani/.brainstorm/plugins/neuroelectrics\n",
      "BST> Plugin xdf: /home/duke/.mcrCache23.2/bst_ja0/Users/rcassani/.brainstorm/plugins/xdf\n",
      "BST> Plugin libsvm: /home/duke/.mcrCache23.2/bst_ja0/Users/rcassani/.brainstorm/plugins/libsvm\n",
      "BST> Plugin fastica: /home/duke/.mcrCache23.2/bst_ja0/Users/rcassani/.brainstorm/plugins/fastica\n",
      "BST> Plugin picard: /home/duke/.mcrCache23.2/bst_ja0/Users/rcassani/.brainstorm/plugins/picard\n",
      "BST> Plugin derivelfp: /home/duke/.mcrCache23.2/bst_ja0/Users/rcassani/.brainstorm/plugins/derivelfp\n",
      "BST> Plugin nirstorm: /home/duke/.mcrCache23.2/bst_ja0/Users/rcassani/.brainstorm/plugins/nirstorm\n",
      "BST> Plugin mcxlab-cl: /home/duke/.mcrCache23.2/bst_ja0/Users/rcassani/.brainstorm/plugins/mcxlab-cl\n",
      "BST> Plugin mia: /home/duke/.mcrCache23.2/bst_ja0/Users/rcassani/.brainstorm/plugins/mia\n",
      "BST> Plugin spm12: /home/duke/.mcrCache23.2/bst_ja0/Users/rcassani/.brainstorm/spmtrip\n",
      "BST> Reading process folder...\n",
      "BST> Loading current protocol...\n",
      "BST> =================================\n",
      " \n",
      "WARNING: This file is a function, trying to convert to a script...\n",
      "BST> Notch filter: Processing 36 blocks of 8 signals.\n",
      "BST> Notch filter: Processing 36 blocks of 8 signals.\n",
      "BST> Notch filter: Processing 17 blocks of 17 signals.\n",
      "BST> Notch filter: Processing 18 blocks of 16 signals.\n",
      "BST> Notch filter: Processing 17 blocks of 17 signals.\n",
      "BST> Notch filter: Processing 29 blocks of 10 signals.\n",
      "BST> Notch filter: Processing 29 blocks of 10 signals.\n",
      "BST> Notch filter: Processing 23 blocks of 13 signals.\n",
      "BST> Notch filter: Processing 21 blocks of 14 signals.\n",
      "BST> Band-pass filter: Processing 36 blocks of 8 signals.\n",
      "BST> Band-pass filter: Processing 36 blocks of 8 signals.\n",
      "BST> Band-pass filter: Processing 17 blocks of 17 signals.\n",
      "BST> Band-pass filter: Processing 18 blocks of 16 signals.\n",
      "BST> Band-pass filter: Processing 17 blocks of 17 signals.\n",
      "BST> Saving protocol \"hcp\"...\n",
      "BST> Band-pass filter: Processing 29 blocks of 10 signals.\n",
      "BST> Band-pass filter: Processing 29 blocks of 10 signals.\n",
      "BST> Band-pass filter: Processing 23 blocks of 13 signals.\n",
      "BST> Band-pass filter: Processing 21 blocks of 14 signals.\n",
      "BST> Apply SSP & CTF compensation: Processing 33 blocks of 45669 time points.\n",
      "BST> Apply SSP & CTF compensation: Processing 34 blocks of 45669 time points.\n",
      "BST> Apply SSP & CTF compensation: Processing 17 blocks of 45669 time points.\n",
      "BST> Apply SSP & CTF compensation: Processing 18 blocks of 45669 time points.\n",
      "BST> Apply SSP & CTF compensation: Processing 17 blocks of 45669 time points.\n",
      "BST> Apply SSP & CTF compensation: Processing 29 blocks of 45669 time points.\n",
      "BST> Apply SSP & CTF compensation: Processing 27 blocks of 45669 time points.\n",
      "BST> Apply SSP & CTF compensation: Processing 21 blocks of 45669 time points.\n",
      "BST> Apply SSP & CTF compensation: Processing 20 blocks of 45669 time points.\n",
      "\n",
      "******************************************************************************************\n",
      "******************************************************************************************\n",
      "*** WARNING: 4D reference sensors are not taken into account in the forward model.     ***\n",
      "***    Due to a bug in the 4D calibration software, the position of the reference      ***\n",
      "***    are commonly wrong, we cannot compute an accurate forward model for them.       ***\n",
      "***    To bypass this limitation and apply the coefficient matrix (MegRefCoef) to the  ***\n",
      "***    forward model, you can comment out the line \"iRef = [];\", next to this warning  ***\n",
      "***    in file bst_heamodeler (lines 182-198).                                         ***\n",
      "******************************************************************************************\n",
      "******************************************************************************************\n",
      "\n",
      "BST> Warning: In server mode, it is not possible to use the patch() function to estimate the surface normals. Results are slightly different than in other graphical modes.\n",
      "BST> Warning: In server mode, it is not possible to use the patch() function to estimate the surface normals. Results are slightly different than in other graphical modes.\n",
      "BST> Warning: In server mode, it is not possible to use the patch() function to estimate the surface normals. Results are slightly different than in other graphical modes.\n",
      "BST> Warning: In server mode, it is not possible to use the patch() function to estimate the surface normals. Results are slightly different than in other graphical modes.\n",
      "BST> Warning: In server mode, it is not possible to use the patch() function to estimate the surface normals. Results are slightly different than in other graphical modes.\n",
      "\n",
      "******************************************************************************************\n",
      "******************************************************************************************\n",
      "*** WARNING: 4D reference sensors are not taken into account in the forward model.     ***\n",
      "***    Due to a bug in the 4D calibration software, the position of the reference      ***\n",
      "***    are commonly wrong, we cannot compute an accurate forward model for them.       ***\n",
      "***    To bypass this limitation and apply the coefficient matrix (MegRefCoef) to the  ***\n",
      "***    forward model, you can comment out the line \"iRef = [];\", next to this warning  ***\n",
      "***    in file bst_heamodeler (lines 182-198).                                         ***\n",
      "******************************************************************************************\n",
      "******************************************************************************************\n",
      "\n",
      "BST> Warning: In server mode, it is not possible to use the patch() function to estimate the surface normals. Results are slightly different than in other graphical modes.\n",
      "\n",
      "******************************************************************************************\n",
      "******************************************************************************************\n",
      "*** WARNING: 4D reference sensors are not taken into account in the forward model.     ***\n",
      "***    Due to a bug in the 4D calibration software, the position of the reference      ***\n",
      "***    are commonly wrong, we cannot compute an accurate forward model for them.       ***\n",
      "***    To bypass this limitation and apply the coefficient matrix (MegRefCoef) to the  ***\n",
      "***    forward model, you can comment out the line \"iRef = [];\", next to this warning  ***\n",
      "***    in file bst_heamodeler (lines 182-198).                                         ***\n",
      "******************************************************************************************\n",
      "******************************************************************************************\n",
      "\n",
      "BST> Warning: In server mode, it is not possible to use the patch() function to estimate the surface normals. Results are slightly different than in other graphical modes.\n",
      "\n",
      "******************************************************************************************\n",
      "******************************************************************************************\n",
      "*** WARNING: 4D reference sensors are not taken into account in the forward model.     ***\n",
      "***    Due to a bug in the 4D calibration software, the position of the reference      ***\n",
      "***    are commonly wrong, we cannot compute an accurate forward model for them.       ***\n",
      "***    To bypass this limitation and apply the coefficient matrix (MegRefCoef) to the  ***\n",
      "***    forward model, you can comment out the line \"iRef = [];\", next to this warning  ***\n",
      "***    in file bst_heamodeler (lines 182-198).                                         ***\n",
      "******************************************************************************************\n",
      "******************************************************************************************\n",
      "\n",
      "BST> Warning: In server mode, it is not possible to use the patch() function to estimate the surface normals. Results are slightly different than in other graphical modes.\n",
      "\n",
      "******************************************************************************************\n",
      "******************************************************************************************\n",
      "*** WARNING: 4D reference sensors are not taken into account in the forward model.     ***\n",
      "***    Due to a bug in the 4D calibration software, the position of the reference      ***\n",
      "***    are commonly wrong, we cannot compute an accurate forward model for them.       ***\n",
      "***    To bypass this limitation and apply the coefficient matrix (MegRefCoef) to the  ***\n",
      "***    forward model, you can comment out the line \"iRef = [];\", next to this warning  ***\n",
      "***    in file bst_heamodeler (lines 182-198).                                         ***\n",
      "******************************************************************************************\n",
      "******************************************************************************************\n",
      "\n",
      "BST> Warning: In server mode, it is not possible to use the patch() function to estimate the surface normals. Results are slightly different than in other graphical modes.\n",
      "\n",
      "******************************************************************************************\n",
      "******************************************************************************************\n",
      "*** WARNING: 4D reference sensors are not taken into account in the forward model.     ***\n",
      "***    Due to a bug in the 4D calibration software, the position of the reference      ***\n",
      "***    are commonly wrong, we cannot compute an accurate forward model for them.       ***\n",
      "***    To bypass this limitation and apply the coefficient matrix (MegRefCoef) to the  ***\n",
      "***    forward model, you can comment out the line \"iRef = [];\", next to this warning  ***\n",
      "***    in file bst_heamodeler (lines 182-198).                                         ***\n",
      "******************************************************************************************\n",
      "******************************************************************************************\n",
      "\n",
      "BST> Warning: In server mode, it is not possible to use the patch() function to estimate the surface normals. Results are slightly different than in other graphical modes.\n",
      "\n",
      "******************************************************************************************\n",
      "******************************************************************************************\n",
      "*** WARNING: 4D reference sensors are not taken into account in the forward model.     ***\n",
      "***    Due to a bug in the 4D calibration software, the position of the reference      ***\n",
      "***    are commonly wrong, we cannot compute an accurate forward model for them.       ***\n",
      "***    To bypass this limitation and apply the coefficient matrix (MegRefCoef) to the  ***\n",
      "***    forward model, you can comment out the line \"iRef = [];\", next to this warning  ***\n",
      "***    in file bst_heamodeler (lines 182-198).                                         ***\n",
      "******************************************************************************************\n",
      "******************************************************************************************\n",
      "\n",
      "BST> Warning: In server mode, it is not possible to use the patch() function to estimate the surface normals. Results are slightly different than in other graphical modes.\n",
      "\n",
      "******************************************************************************************\n",
      "******************************************************************************************\n",
      "*** WARNING: 4D reference sensors are not taken into account in the forward model.     ***\n",
      "***    Due to a bug in the 4D calibration software, the position of the reference      ***\n",
      "***    are commonly wrong, we cannot compute an accurate forward model for them.       ***\n",
      "***    To bypass this limitation and apply the coefficient matrix (MegRefCoef) to the  ***\n",
      "***    forward model, you can comment out the line \"iRef = [];\", next to this warning  ***\n",
      "***    in file bst_heamodeler (lines 182-198).                                         ***\n",
      "******************************************************************************************\n",
      "******************************************************************************************\n",
      "\n",
      "BST> Warning: In server mode, it is not possible to use the patch() function to estimate the surface normals. Results are slightly different than in other graphical modes.\n",
      "\n",
      "******************************************************************************************\n",
      "******************************************************************************************\n",
      "*** WARNING: 4D reference sensors are not taken into account in the forward model.     ***\n",
      "***    Due to a bug in the 4D calibration software, the position of the reference      ***\n",
      "***    are commonly wrong, we cannot compute an accurate forward model for them.       ***\n",
      "***    To bypass this limitation and apply the coefficient matrix (MegRefCoef) to the  ***\n",
      "***    forward model, you can comment out the line \"iRef = [];\", next to this warning  ***\n",
      "***    in file bst_heamodeler (lines 182-198).                                         ***\n",
      "******************************************************************************************\n",
      "******************************************************************************************\n",
      "\n",
      "BST> Warning: In server mode, it is not possible to use the patch() function to estimate the surface normals. Results are slightly different than in other graphical modes.\n",
      "BST> Saving protocol \"hcp\"...\n",
      "BST> Brainstorm stopped.\n",
      "BST> Compiled code returned without errors.\n"
     ]
    }
   ],
   "source": [
    "!./brainstorm3.command /usr/local/MATLAB/MATLAB_Runtime/R2023b megfield_pp2_clean_and_gain.m 162026"
   ]
  },
  {
   "cell_type": "markdown",
   "id": "36631f3f-d7aa-401c-9d0a-8ddd9bdd8b18",
   "metadata": {},
   "source": [
    "Brainstorm  needs the protocol created first, check the example script at \n",
    "\n",
    "https://neuroimage.usc.edu/brainstorm/Tutorials/Scripting?highlight=%28script%29#Running_scripts_on_a_cluster\n",
    "\n",
    "when all that is done, then you can \n",
    "<h3> continue </h3>"
   ]
  },
  {
   "cell_type": "code",
   "execution_count": 146,
   "id": "d5ec814b-d953-4f59-acf8-f130225a49bf",
   "metadata": {
    "tags": []
   },
   "outputs": [
    {
     "name": "stdout",
     "output_type": "stream",
     "text": [
      "992K\tbstdb/hcp/data/162026/@raw5-Restin_c_rfDC\n",
      "841M\tbstdb/hcp/data/162026/@raw5-Restin_c_rfDC_notch\n",
      "841M\tbstdb/hcp/data/162026/@raw5-Restin_c_rfDC_notch_band\n",
      "887M\tbstdb/hcp/data/162026/@raw5-Restin_c_rfDC_notch_band_clean\n"
     ]
    }
   ],
   "source": [
    "!du -h -d1 bstdb/hcp/data/162026/@raw5*"
   ]
  },
  {
   "cell_type": "code",
   "execution_count": 147,
   "id": "2127903c-d478-466c-a03e-5cd89248f322",
   "metadata": {
    "tags": []
   },
   "outputs": [
    {
     "name": "stdout",
     "output_type": "stream",
     "text": [
      "bstdb/hcp/data/162026/@raw5-Restin_c_rfDC/:\n",
      "total 988K\n",
      "-rw-rw-r-- 1 duke duke  315 nov.  24 13:22 brainstormstudy.mat\n",
      "-rw-rw-r-- 1 duke duke  49K nov.  24 13:22 channel_4d_acc1.mat\n",
      "-rw-rw-r-- 1 duke duke 930K nov.  24 13:22 data_0raw_c,rfDC.mat\n",
      "\n",
      "bstdb/hcp/data/162026/@raw5-Restin_c_rfDC_notch/:\n",
      "total 841M\n",
      "-rw-rw-r-- 1 duke duke 841M nov.  24 13:38 5-Restin_c_rfDC_notch.bst\n",
      "-rw-rw-r-- 1 duke duke  321 nov.  24 13:38 brainstormstudy.mat\n",
      "-rw-rw-r-- 1 duke duke  49K nov.  24 13:38 channel_4d_acc1.mat\n",
      "-rw-rw-r-- 1 duke duke 5,1K nov.  24 13:38 data_0raw_5-Restin_c_rfDC_notch.mat\n",
      "\n",
      "bstdb/hcp/data/162026/@raw5-Restin_c_rfDC_notch_band/:\n",
      "total 841M\n",
      "-rw-rw-r-- 1 duke duke 841M nov.  24 13:44 5-Restin_c_rfDC_notch_band.bst\n",
      "-rw-rw-r-- 1 duke duke  326 nov.  24 13:44 brainstormstudy.mat\n",
      "-rw-rw-r-- 1 duke duke 991K nov.  24 13:49 channel_4d_acc1.mat\n",
      "-rw-rw-r-- 1 duke duke 5,6K nov.  24 13:46 data_0raw_5-Restin_c_rfDC_notch_band.mat\n",
      "\n",
      "bstdb/hcp/data/162026/@raw5-Restin_c_rfDC_notch_band_clean/:\n",
      "total 887M\n",
      "-rw-rw-r-- 1 duke duke 841M nov.  24 13:51 5-Restin_c_rfDC_notch_band_clean.bst\n",
      "-rw-rw-r-- 1 duke duke  332 nov.  24 13:51 brainstormstudy.mat\n",
      "-rw-rw-r-- 1 duke duke 991K nov.  24 13:51 channel_4d_acc1.mat\n",
      "-rw-rw-r-- 1 duke duke  12K nov.  24 13:51 data_0raw_5-Restin_c_rfDC_notch_band_clean.mat\n",
      "-rw-rw-r-- 1 duke duke  45M nov.  24 13:52 headmodel_surf_os_meg.mat\n"
     ]
    }
   ],
   "source": [
    "!ls -lh bstdb/hcp/data/162026/@raw5*/"
   ]
  },
  {
   "cell_type": "markdown",
   "id": "1a2ed241-72d2-43e8-a7a9-a0492c3d0341",
   "metadata": {},
   "source": [
    "looks like mne supports reading bst, so we can load the meg data directly, w/o duplicating it."
   ]
  },
  {
   "cell_type": "code",
   "execution_count": 18,
   "id": "7ba5a6e8-b665-41bd-b420-126ad03f2e82",
   "metadata": {},
   "outputs": [],
   "source": [
    "import mne"
   ]
  },
  {
   "cell_type": "markdown",
   "id": "f7330282-8702-42ce-ba64-a7d411fc25ad",
   "metadata": {},
   "source": [
    "so once those scripts are done, we can compute the gdist,"
   ]
  },
  {
   "cell_type": "code",
   "execution_count": 19,
   "id": "1d3327db-1868-4e3b-a6dd-ff3d1dd3b70b",
   "metadata": {
    "tags": []
   },
   "outputs": [],
   "source": [
    "import gdist\n",
    "import scipy.io\n",
    "import glob\n",
    "import numpy as np\n",
    "\n",
    "protopath = 'bstdb/hcp'"
   ]
  },
  {
   "cell_type": "code",
   "execution_count": 49,
   "id": "87eda6d8-3648-4375-8d61-4593b20ef2d9",
   "metadata": {
    "tags": []
   },
   "outputs": [],
   "source": [
    "cortex = f'{protopath}/anat/{sid}/tess_cortex_mid.mat'"
   ]
  },
  {
   "cell_type": "code",
   "execution_count": 21,
   "id": "ab2bd93f-1eff-48bd-af80-a9778b7936a1",
   "metadata": {
    "tags": []
   },
   "outputs": [
    {
     "name": "stdout",
     "output_type": "stream",
     "text": [
      "CPU times: user 4min 7s, sys: 1.78 s, total: 4min 9s\n",
      "Wall time: 4min 7s\n"
     ]
    }
   ],
   "source": [
    "%%time\n",
    "mat = scipy.io.loadmat(cortex)\n",
    "vtx = mat['Vertices'] # nvtx,3\n",
    "tri = mat['Faces'].astype(np.int32) # ntri,3\n",
    "assert tri.min() == 1\n",
    "assert vtx.shape[1] == tri.shape[1] == 3\n",
    "gd = gdist.local_gdist_matrix(vtx, tri, 20.0, is_one_indexed=True).tocsr()\n",
    "gd.data = gd.data.astype(np.float32)\n",
    "scipy.io.savemat(cortex + '.gdist.mat', {'gdist': gd.tocsr()})"
   ]
  },
  {
   "cell_type": "markdown",
   "id": "abda87bf-5133-4863-81eb-68f15d1b2b59",
   "metadata": {},
   "source": [
    "next we need to compute the local kernel on gdist and its eigenvalues,"
   ]
  },
  {
   "cell_type": "code",
   "execution_count": 46,
   "id": "39e9124c-cb3d-4503-9aed-5327a4949db1",
   "metadata": {},
   "outputs": [
    {
     "data": {
      "text/plain": [
       "array([ 1.        ,  1.09355991,  1.19587327,  1.30775907,  1.43011289,\n",
       "        1.56391412,  1.71023378,  1.8702431 ,  2.04522287,  2.23657374,\n",
       "        2.44582737,  2.67465876,  2.92489959,  3.19855292,  3.49780924,\n",
       "        3.82506396,  4.18293659,  4.57429176,  5.00226208,  5.47027326,\n",
       "        5.98207153,  6.5417536 ,  7.15379947,  7.82310829,  8.55503759,\n",
       "        9.35544612, 10.23074081, 11.18792799, 12.23466951, 13.37934407,\n",
       "       14.63111428, 16.        ])"
      ]
     },
     "execution_count": 46,
     "metadata": {},
     "output_type": "execute_result"
    }
   ],
   "source": []
  },
  {
   "cell_type": "code",
   "execution_count": 50,
   "id": "73fc4df9-4129-48a5-8510-ab52f23a64a7",
   "metadata": {
    "tags": []
   },
   "outputs": [
    {
     "name": "stderr",
     "output_type": "stream",
     "text": [
      "  3%|▎         | 1/32 [01:11<37:06, 71.81s/it]"
     ]
    },
    {
     "name": "stdout",
     "output_type": "stream",
     "text": [
      "1.0\n"
     ]
    },
    {
     "name": "stderr",
     "output_type": "stream",
     "text": [
      "  6%|▋         | 2/32 [02:23<35:51, 71.71s/it]"
     ]
    },
    {
     "name": "stdout",
     "output_type": "stream",
     "text": [
      "1.0935599087586108\n"
     ]
    },
    {
     "name": "stderr",
     "output_type": "stream",
     "text": [
      "  9%|▉         | 3/32 [03:53<38:42, 80.10s/it]"
     ]
    },
    {
     "name": "stdout",
     "output_type": "stream",
     "text": [
      "1.1958732740441411\n"
     ]
    },
    {
     "name": "stderr",
     "output_type": "stream",
     "text": [
      " 12%|█▎        | 4/32 [05:15<37:44, 80.86s/it]"
     ]
    },
    {
     "name": "stdout",
     "output_type": "stream",
     "text": [
      "1.307759068450572\n"
     ]
    },
    {
     "name": "stderr",
     "output_type": "stream",
     "text": [
      " 16%|█▌        | 5/32 [06:41<37:09, 82.56s/it]"
     ]
    },
    {
     "name": "stdout",
     "output_type": "stream",
     "text": [
      "1.4301128875730535\n"
     ]
    },
    {
     "name": "stderr",
     "output_type": "stream",
     "text": [
      " 19%|█▉        | 6/32 [08:21<38:23, 88.61s/it]"
     ]
    },
    {
     "name": "stdout",
     "output_type": "stream",
     "text": [
      "1.5639141188489016\n"
     ]
    },
    {
     "name": "stderr",
     "output_type": "stream",
     "text": [
      " 22%|██▏       | 7/32 [10:02<38:32, 92.52s/it]"
     ]
    },
    {
     "name": "stdout",
     "output_type": "stream",
     "text": [
      "1.710233781114708\n"
     ]
    },
    {
     "name": "stderr",
     "output_type": "stream",
     "text": [
      " 25%|██▌       | 8/32 [11:42<38:00, 95.02s/it]"
     ]
    },
    {
     "name": "stdout",
     "output_type": "stream",
     "text": [
      "1.870243097631694\n"
     ]
    },
    {
     "name": "stderr",
     "output_type": "stream",
     "text": [
      " 28%|██▊       | 9/32 [13:28<37:43, 98.43s/it]"
     ]
    },
    {
     "name": "stdout",
     "output_type": "stream",
     "text": [
      "2.0452228712025367\n"
     ]
    },
    {
     "name": "stderr",
     "output_type": "stream",
     "text": [
      " 31%|███▏      | 10/32 [15:21<37:43, 102.90s/it]"
     ]
    },
    {
     "name": "stdout",
     "output_type": "stream",
     "text": [
      "2.23657373642327\n"
     ]
    },
    {
     "name": "stderr",
     "output_type": "stream",
     "text": [
      " 34%|███▍      | 11/32 [17:17<37:27, 107.00s/it]"
     ]
    },
    {
     "name": "stdout",
     "output_type": "stream",
     "text": [
      "2.445827371134936\n"
     ]
    },
    {
     "name": "stderr",
     "output_type": "stream",
     "text": [
      " 38%|███▊      | 12/32 [19:21<37:21, 112.07s/it]"
     ]
    },
    {
     "name": "stdout",
     "output_type": "stream",
     "text": [
      "2.674658756817634\n"
     ]
    },
    {
     "name": "stderr",
     "output_type": "stream",
     "text": [
      " 41%|████      | 13/32 [21:23<36:28, 115.16s/it]"
     ]
    },
    {
     "name": "stdout",
     "output_type": "stream",
     "text": [
      "2.9248995860659113\n"
     ]
    },
    {
     "name": "stderr",
     "output_type": "stream",
     "text": [
      " 44%|████▍     | 14/32 [23:40<36:29, 121.64s/it]"
     ]
    },
    {
     "name": "stdout",
     "output_type": "stream",
     "text": [
      "3.1985529244663353\n"
     ]
    },
    {
     "name": "stderr",
     "output_type": "stream",
     "text": [
      " 47%|████▋     | 15/32 [26:07<36:38, 129.35s/it]"
     ]
    },
    {
     "name": "stdout",
     "output_type": "stream",
     "text": [
      "3.4978092442389936\n"
     ]
    },
    {
     "name": "stderr",
     "output_type": "stream",
     "text": [
      " 50%|█████     | 16/32 [28:26<35:16, 132.26s/it]"
     ]
    },
    {
     "name": "stdout",
     "output_type": "stream",
     "text": [
      "3.82506395798502\n"
     ]
    },
    {
     "name": "stderr",
     "output_type": "stream",
     "text": [
      " 53%|█████▎    | 17/32 [30:49<33:51, 135.43s/it]"
     ]
    },
    {
     "name": "stdout",
     "output_type": "stream",
     "text": [
      "4.1829365928899485\n"
     ]
    },
    {
     "name": "stderr",
     "output_type": "stream",
     "text": [
      " 56%|█████▋    | 18/32 [33:18<32:34, 139.61s/it]"
     ]
    },
    {
     "name": "stdout",
     "output_type": "stream",
     "text": [
      "4.574291758863786\n"
     ]
    },
    {
     "name": "stderr",
     "output_type": "stream",
     "text": [
      " 59%|█████▉    | 19/32 [35:51<31:09, 143.78s/it]"
     ]
    },
    {
     "name": "stdout",
     "output_type": "stream",
     "text": [
      "5.0022620784583465\n"
     ]
    },
    {
     "name": "stderr",
     "output_type": "stream",
     "text": [
      " 62%|██████▎   | 20/32 [38:21<29:04, 145.42s/it]"
     ]
    },
    {
     "name": "stdout",
     "output_type": "stream",
     "text": [
      "5.470273262105569\n"
     ]
    },
    {
     "name": "stderr",
     "output_type": "stream",
     "text": [
      " 66%|██████▌   | 21/32 [40:43<26:28, 144.42s/it]"
     ]
    },
    {
     "name": "stdout",
     "output_type": "stream",
     "text": [
      "5.982071529392834\n"
     ]
    },
    {
     "name": "stderr",
     "output_type": "stream",
     "text": [
      " 69%|██████▉   | 22/32 [43:16<24:31, 147.12s/it]"
     ]
    },
    {
     "name": "stdout",
     "output_type": "stream",
     "text": [
      "6.5417535958703095\n"
     ]
    },
    {
     "name": "stderr",
     "output_type": "stream",
     "text": [
      " 72%|███████▏  | 23/32 [45:44<22:05, 147.25s/it]"
     ]
    },
    {
     "name": "stdout",
     "output_type": "stream",
     "text": [
      "7.153799465421252\n"
     ]
    },
    {
     "name": "stderr",
     "output_type": "stream",
     "text": [
      " 75%|███████▌  | 24/32 [48:23<20:05, 150.72s/it]"
     ]
    },
    {
     "name": "stdout",
     "output_type": "stream",
     "text": [
      "7.823108290683463\n"
     ]
    },
    {
     "name": "stderr",
     "output_type": "stream",
     "text": [
      " 78%|███████▊  | 25/32 [51:04<17:56, 153.82s/it]"
     ]
    },
    {
     "name": "stdout",
     "output_type": "stream",
     "text": [
      "8.555037588568537\n"
     ]
    },
    {
     "name": "stderr",
     "output_type": "stream",
     "text": [
      " 81%|████████▏ | 26/32 [53:47<15:40, 156.71s/it]"
     ]
    },
    {
     "name": "stdout",
     "output_type": "stream",
     "text": [
      "9.355446124781494\n"
     ]
    },
    {
     "name": "stderr",
     "output_type": "stream",
     "text": [
      " 84%|████████▍ | 27/32 [56:31<13:14, 158.91s/it]"
     ]
    },
    {
     "name": "stdout",
     "output_type": "stream",
     "text": [
      "10.230740810612149\n"
     ]
    },
    {
     "name": "stderr",
     "output_type": "stream",
     "text": [
      " 88%|████████▊ | 28/32 [59:28<10:57, 164.29s/it]"
     ]
    },
    {
     "name": "stdout",
     "output_type": "stream",
     "text": [
      "11.187927987386018\n"
     ]
    },
    {
     "name": "stderr",
     "output_type": "stream",
     "text": [
      " 91%|█████████ | 29/32 [1:02:32<08:30, 170.29s/it]"
     ]
    },
    {
     "name": "stdout",
     "output_type": "stream",
     "text": [
      "12.234669509083762\n"
     ]
    },
    {
     "name": "stderr",
     "output_type": "stream",
     "text": [
      " 94%|█████████▍| 30/32 [1:05:32<05:46, 173.20s/it]"
     ]
    },
    {
     "name": "stdout",
     "output_type": "stream",
     "text": [
      "13.379344072045395\n"
     ]
    },
    {
     "name": "stderr",
     "output_type": "stream",
     "text": [
      " 97%|█████████▋| 31/32 [1:08:41<02:57, 177.74s/it]"
     ]
    },
    {
     "name": "stdout",
     "output_type": "stream",
     "text": [
      "14.631114282676025\n"
     ]
    },
    {
     "name": "stderr",
     "output_type": "stream",
     "text": [
      "100%|██████████| 32/32 [1:11:56<00:00, 134.89s/it]"
     ]
    },
    {
     "name": "stdout",
     "output_type": "stream",
     "text": [
      "16.0\n",
      "CPU times: user 7h 44s, sys: 10min 10s, total: 7h 10min 55s\n",
      "Wall time: 1h 11min 56s\n"
     ]
    },
    {
     "name": "stderr",
     "output_type": "stream",
     "text": [
      "\n"
     ]
    }
   ],
   "source": [
    "%%time \n",
    "import scipy.sparse.linalg as sla\n",
    "\n",
    "for i, k in enumerate(tqdm.tqdm(2**np.r_[:4:32j])):# [1, 2, 4, 8]:\n",
    "    lc = gd.copy()\n",
    "    lc.data = np.exp(-lc.data/(k)).astype('f')\n",
    "    d, p = sla.eigs(lc, 230)\n",
    "    # print(np.abs(d.imag).sum(), np.abs(p.imag).sum(), 'residual imag')\n",
    "    np.savez(cortex + f'.lc_{k:0.3f}.npz', d=d.real, p=p.real)\n",
    "    print(k)"
   ]
  },
  {
   "cell_type": "code",
   "execution_count": 23,
   "id": "d3d29d1d-4dda-4b3b-9c66-02b0748810fc",
   "metadata": {
    "tags": []
   },
   "outputs": [
    {
     "name": "stdout",
     "output_type": "stream",
     "text": [
      "total 354M\n",
      "-rw-rw-r-- 1 duke duke  827 nov.  23 13:05 brainstormsubject.mat\n",
      "-rw-rw-r-- 1 duke duke  68M nov.  23 13:04 subjectimage_T1w_acpc_dc_restore.mat\n",
      "-rw-rw-r-- 1 duke duke 528K nov.  23 13:26 tess_cortex_mid.mat\n",
      "-rw-rw-r-- 1 duke duke 245M nov.  23 14:13 tess_cortex_mid.mat.gdist.mat\n",
      "-rw-rw-r-- 1 duke duke 7,1M nov.  23 14:14 tess_cortex_mid.mat.lc_1.npz\n",
      "-rw-rw-r-- 1 duke duke 7,1M nov.  23 14:16 tess_cortex_mid.mat.lc_2.npz\n",
      "-rw-rw-r-- 1 duke duke 7,1M nov.  23 14:18 tess_cortex_mid.mat.lc_4.npz\n",
      "-rw-rw-r-- 1 duke duke 7,1M nov.  23 14:21 tess_cortex_mid.mat.lc_8.npz\n",
      "-rw-rw-r-- 1 duke duke  62K nov.  23 13:05 tess_head_bem_1922V.mat\n",
      "-rw-rw-r-- 1 duke duke  13M nov.  23 13:05 tess_head_mask.mat\n",
      "-rw-rw-r-- 1 duke duke 134K nov.  23 13:26 tess_innerskull_bem_1922V.mat\n",
      "-rw-rw-r-- 1 duke duke  61K nov.  23 13:05 tess_outerskull_bem_1922V.mat\n"
     ]
    }
   ],
   "source": [
    "!ls -lh bstdb/hcp/anat/100307"
   ]
  },
  {
   "cell_type": "code",
   "execution_count": 24,
   "id": "8b121687-1ec5-46b4-b6c2-ff6a1f259f3e",
   "metadata": {
    "tags": []
   },
   "outputs": [
    {
     "name": "stdout",
     "output_type": "stream",
     "text": [
      "total 1,2G\n",
      "-rw-rw-r-- 1 duke duke 828M nov.  23 13:25 5-Restin_c_rfDC_notch_band_clean.bst\n",
      "-rw-rw-r-- 1 duke duke  332 nov.  23 13:25 brainstormstudy.mat\n",
      "-rw-rw-r-- 1 duke duke 991K nov.  23 13:25 channel_4d_acc1.mat\n",
      "-rw-rw-r-- 1 duke duke  12K nov.  23 13:25 data_0raw_5-Restin_c_rfDC_notch_band_clean.mat\n",
      "-rw-rw-r-- 1 duke duke  45M nov.  23 13:26 headmodel_surf_os_meg.mat\n",
      "-rw-rw-r-- 1 duke duke 258M nov.  23 13:29 run_data.mat\n",
      "-rw-rw-r-- 1 duke duke 547K nov.  23 13:29 run_time.mat\n"
     ]
    }
   ],
   "source": [
    "!ls -lh bstdb/hcp/data/100307/@raw5-Restin_c_rfDC_notch_band_clean"
   ]
  },
  {
   "cell_type": "markdown",
   "id": "1119a8e3-466b-4b24-a5e4-bd3597619277",
   "metadata": {},
   "source": [
    "computing several lets us see which reconstructs the MEG data best.\n",
    "\n",
    "lastly, do the equivalent of `prep-runs.py`, but with an updated export,"
   ]
  },
  {
   "cell_type": "code",
   "execution_count": 25,
   "id": "9afb2fbd-ebbe-4ac2-9c07-c12503a3efab",
   "metadata": {
    "tags": []
   },
   "outputs": [
    {
     "name": "stdout",
     "output_type": "stream",
     "text": [
      "total 1,2G\n",
      "-rw-rw-r-- 1 duke duke 850M nov.  23 13:25 3-Restin_c_rfDC_notch_band_clean.bst\n",
      "-rw-rw-r-- 1 duke duke  332 nov.  23 13:25 brainstormstudy.mat\n",
      "-rw-rw-r-- 1 duke duke 990K nov.  23 13:25 channel_4d_acc1.mat\n",
      "-rw-rw-r-- 1 duke duke  12K nov.  23 13:25 data_0raw_3-Restin_c_rfDC_notch_band_clean.mat\n",
      "-rw-rw-r-- 1 duke duke  45M nov.  23 13:26 headmodel_surf_os_meg.mat\n",
      "-rw-rw-r-- 1 duke duke 265M nov.  23 13:28 run_data.mat\n",
      "-rw-rw-r-- 1 duke duke 558K nov.  23 13:28 run_time.mat\n"
     ]
    }
   ],
   "source": [
    "!ls -lh bstdb/hcp/data/100307/@raw3-Restin_c_rfDC_notch_band_clean"
   ]
  },
  {
   "cell_type": "code",
   "execution_count": null,
   "id": "03776bc5-8b36-4fa5-88db-81f97d02d10c",
   "metadata": {
    "tags": []
   },
   "outputs": [],
   "source": []
  },
  {
   "cell_type": "markdown",
   "id": "415f69a1-e921-459c-9e30-4fae38162186",
   "metadata": {
    "tags": []
   },
   "source": [
    "now let's rewrite the main body of the loop in prep runs,"
   ]
  },
  {
   "cell_type": "code",
   "execution_count": 51,
   "id": "ea77297b-fb3d-4496-9ac0-3c60113b5c29",
   "metadata": {
    "tags": []
   },
   "outputs": [
    {
     "data": {
      "text/plain": [
       "(287, 251450)"
      ]
     },
     "execution_count": 51,
     "metadata": {},
     "output_type": "execute_result"
    }
   ],
   "source": [
    "bst = 'bstdb/hcp'\n",
    "with open('./badchans2.json', 'r') as fd:\n",
    "    badchans2 = json.load(fd)\n",
    "\n",
    "# per subject\n",
    "tess_path = f'{bst}/anat/{sid}/tess_cortex_mid.mat'\n",
    "lceigs_path = glob.glob(f'{tess_path}.lc_*.npz')\n",
    "cortex = scipy.io.loadmat(tess_path)\n",
    "lceigs = [np.load(_) for _ in lceigs_path]\n",
    "\n",
    "# per run load gain & channel list\n",
    "folder = f'{bst}/data/{sid}/@raw5-Restin_c_rfDC_notch_band_clean'\n",
    "gain_mat = scipy.io.loadmat(os.path.join(folder, 'headmodel_surf_os_meg.mat'))\n",
    "chan4d = scipy.io.loadmat(os.path.join(folder, 'channel_4d_acc1.mat'))\n",
    "\n",
    "# load meg run data\n",
    "run_data = scipy.io.loadmat(f'{folder}/run_data.mat')['run_data']\n",
    "run_time = scipy.io.loadmat(f'{folder}/run_time.mat')['run_time']\n",
    "run_data.shape"
   ]
  },
  {
   "cell_type": "code",
   "execution_count": 66,
   "id": "3dea0221-3390-46a0-97c0-111bef110d67",
   "metadata": {},
   "outputs": [
    {
     "data": {
      "text/plain": [
       "'5.470'"
      ]
     },
     "execution_count": 66,
     "metadata": {},
     "output_type": "execute_result"
    }
   ],
   "source": [
    "lceigs_path[4]"
   ]
  },
  {
   "cell_type": "code",
   "execution_count": 67,
   "id": "752ce0ac-bfff-44a6-b30b-53103d015564",
   "metadata": {},
   "outputs": [
    {
     "data": {
      "text/plain": [
       "array([ 8.   ,  2.925,  1.   ,  9.355,  5.47 ,  7.154,  4.574,  3.498,\n",
       "        1.43 ,  3.825,  5.002,  1.87 ,  1.71 ,  2.237,  7.823, 16.   ,\n",
       "        1.564, 10.231, 11.188,  2.   ,  5.982,  1.308, 13.379, 12.235,\n",
       "        3.199,  2.045,  1.094, 14.631,  8.555,  6.542,  2.675,  4.183,\n",
       "        2.446,  1.   ,  1.196,  4.   ])"
      ]
     },
     "execution_count": 67,
     "metadata": {},
     "output_type": "execute_result"
    }
   ],
   "source": [
    "lceigs_ks = np.array([float(p.split('_')[-1][:-4]) for p in lceigs_path])\n",
    "lceigs_ks"
   ]
  },
  {
   "cell_type": "code",
   "execution_count": 68,
   "id": "f31b18b9-2193-4659-a9ad-b24d2c681ceb",
   "metadata": {
    "tags": []
   },
   "outputs": [],
   "source": [
    "# bad channels\n",
    "runslug = os.path.basename(folder).split('_')[0][4:]\n",
    "badnames = badchans2[sid][runslug]\n",
    "badmask = np.array([_[0] in badnames for _ in chan4d['Channel']['Name'][0,:]])\n",
    "assert badmask.sum() == len(badnames)\n",
    "\n",
    "# keep channels which have finite gain and not on the bad channel list\n",
    "okchan = np.c_[np.isfinite(gain_mat['Gain']).all(axis=1), ~badmask].all(axis=1)"
   ]
  },
  {
   "cell_type": "code",
   "execution_count": 69,
   "id": "dc5be5cf-bf9e-46ef-904c-26ecaca0b36b",
   "metadata": {
    "tags": []
   },
   "outputs": [
    {
     "name": "stdout",
     "output_type": "stream",
     "text": [
      "(36, 246, 230) pgain.shape"
     ]
    }
   ],
   "source": [
    "# retain normal orientation and project to harmonics\n",
    "gain_xyz = gain_mat['Gain'][okchan].reshape((okchan.sum(), -1, 3))\n",
    "gain = np.sum(gain_xyz * cortex['VertNormals'], axis=2) # (okchan.sum(), nvtx)\n",
    "pgains = np.array([gain @ lceig['p'] for lceig in lceigs])\n",
    "print(pgains.shape, 'pgain.shape', end='', flush=True)"
   ]
  },
  {
   "cell_type": "code",
   "execution_count": 70,
   "id": "8bb58454-faab-412e-84fc-5e42d1793123",
   "metadata": {
    "tags": []
   },
   "outputs": [],
   "source": [
    "t = run_time[0]\n",
    "sfreq = 1/(t[1] - t[0])\n",
    "assert int(sfreq) == 678\n",
    "\n",
    "chop = 5*int(sfreq)\n",
    "run_data = run_data[okchan]*1e12 # rescale to ~(-1,1)\n",
    "run_data, run_time = run_data[:,chop:-chop], run_time[chop:-chop]"
   ]
  },
  {
   "cell_type": "code",
   "execution_count": 71,
   "id": "42afe8c8-e856-4645-b992-ceb47244e9f9",
   "metadata": {},
   "outputs": [
    {
     "data": {
      "text/plain": [
       "((36, 246, 230), (246, 244670), (246, 8004))"
      ]
     },
     "execution_count": 71,
     "metadata": {},
     "output_type": "execute_result"
    }
   ],
   "source": [
    "pgains.shape, run_data.shape, gain.shape"
   ]
  },
  {
   "cell_type": "code",
   "execution_count": 33,
   "id": "21921ab9-a48e-41fa-9bc9-ecd39b6c4e9b",
   "metadata": {
    "tags": []
   },
   "outputs": [],
   "source": [
    "assert pgains.shape[1] == run_data.shape[0]"
   ]
  },
  {
   "cell_type": "markdown",
   "id": "1d190c2a-3899-4f18-a71b-14ae9c8623c4",
   "metadata": {},
   "source": [
    "this is the most convenient place to check reconstruction errors. \n",
    "\n",
    "- for different numbers of local connectivity eigevectors\n",
    "- for each decay rate\n",
    "- compute inverse\n",
    "- apply inverse to data\n",
    "- apply forward to inversed data\n",
    "- compute sse"
   ]
  },
  {
   "cell_type": "code",
   "execution_count": 86,
   "id": "63cdd0af-0d5a-4a8d-bb67-5f51a2b2f954",
   "metadata": {},
   "outputs": [
    {
     "data": {
      "text/plain": [
       "(246, 244670)"
      ]
     },
     "execution_count": 86,
     "metadata": {},
     "output_type": "execute_result"
    }
   ],
   "source": [
    "run_data.shape"
   ]
  },
  {
   "cell_type": "code",
   "execution_count": 88,
   "id": "8bc3d7e6-c353-4490-b7a4-6a5f8e12f371",
   "metadata": {},
   "outputs": [
    {
     "data": {
      "text/plain": [
       "((246, 225), (225, 246))"
      ]
     },
     "execution_count": 88,
     "metadata": {},
     "output_type": "execute_result"
    }
   ],
   "source": [
    "pgi.shape, pg.shape"
   ]
  },
  {
   "cell_type": "code",
   "execution_count": 90,
   "id": "c8ebefc7-6f10-4f27-9ea1-af89262eaa1d",
   "metadata": {},
   "outputs": [
    {
     "name": "stdout",
     "output_type": "stream",
     "text": [
      "444 ms ± 0 ns per loop (mean ± std. dev. of 1 run, 1 loop each)\n",
      "304 ms ± 0 ns per loop (mean ± std. dev. of 1 run, 1 loop each)\n"
     ]
    }
   ],
   "source": [
    "%timeit -n1 -r1 pg.T.copy() @ (pgi.T.copy() @ run_data)\n",
    "%timeit -n1 -r1 (run_data.T @ pgi) @ pg"
   ]
  },
  {
   "cell_type": "code",
   "execution_count": 123,
   "id": "a9b4180f-0998-49af-a9d8-fb595a1376dc",
   "metadata": {
    "tags": []
   },
   "outputs": [
    {
     "name": "stderr",
     "output_type": "stream",
     "text": [
      "100%|██████████| 10/10 [00:48<00:00,  4.85s/it]\n"
     ]
    }
   ],
   "source": [
    "import tqdm\n",
    "\n",
    "sse = []\n",
    "for k in tqdm.tqdm(np.r_[:10]*25+1):\n",
    "    sse_k = []\n",
    "    for i, pgain in enumerate(pgains):\n",
    "        pg = pgain[:, :k].T\n",
    "        pgi = np.linalg.pinv(pg)\n",
    "        rdr = (run_data[:,::10].T @ pgi) @ pg\n",
    "        # rdr /= rdr.ptp()\n",
    "        # dFr *= dF.ptp()\n",
    "        sse_k.append( np.sum(np.square(rdr - run_data[:,::10].T)) )\n",
    "    sse.append(sse_k)\n",
    "sse = np.array(sse)"
   ]
  },
  {
   "cell_type": "code",
   "execution_count": 124,
   "id": "55128e6e-70dc-4c3e-bb35-0814ab3c5318",
   "metadata": {},
   "outputs": [
    {
     "data": {
      "text/plain": [
       "array([ 2, 33, 26, 34, 21,  8, 16, 12, 11, 19, 25, 13, 32, 30,  1, 24,  7,\n",
       "        9, 35, 31,  6, 10,  4, 20, 29,  5, 14,  0, 28,  3, 17, 18, 23, 22,\n",
       "       27, 15])"
      ]
     },
     "execution_count": 124,
     "metadata": {},
     "output_type": "execute_result"
    }
   ],
   "source": [
    "sort_ks = np.argsort(lceigs_ks)\n",
    "sort_ks"
   ]
  },
  {
   "cell_type": "code",
   "execution_count": 126,
   "id": "d9a6b39e-f70d-485a-884e-34351fcb95d4",
   "metadata": {
    "tags": []
   },
   "outputs": [
    {
     "data": {
      "image/png": "[encoded data removed]",
      "text/plain": [
       "<Figure size 640x480 with 1 Axes>"
      ]
     },
     "metadata": {},
     "output_type": "display_data"
    }
   ],
   "source": [
    "import matplotlib.pyplot as pl\n",
    "\n",
    "pl.semilogy(lceigs_ks[sort_ks],sse[:,sort_ks].T)\n",
    "pl.grid(1)\n",
    "# pl.ylim([0, sse.max()*1.1])\n",
    "pl.ylabel('sum sq err')\n",
    "pl.legend([f'k={k}' for k in np.r_[:10]*25+1])\n",
    "pl.show()"
   ]
  },
  {
   "cell_type": "code",
   "execution_count": 128,
   "id": "17863600-8549-407e-a7b7-c3ffe96dc66d",
   "metadata": {},
   "outputs": [
    {
     "data": {
      "text/plain": [
       "0.08820321175063353"
      ]
     },
     "execution_count": 128,
     "metadata": {},
     "output_type": "execute_result"
    }
   ],
   "source": [
    "sse[4].mean() / sse[0].mean()"
   ]
  },
  {
   "cell_type": "markdown",
   "id": "397065a4-7de6-4937-9c99-b0d768bc7ca8",
   "metadata": {},
   "source": [
    "from this, it doesn't seem to matter much which k is used, as long as we have enough modes. the 5th line, green here, is 101 modes, which retains only 8% of the sum squared error compared to using 1 mode.  This seems consistent with the connectome mode paper."
   ]
  },
  {
   "cell_type": "code",
   "execution_count": 144,
   "id": "ba00c0d6-0f7c-46f5-b9e6-95f4dd99e4ac",
   "metadata": {
    "tags": []
   },
   "outputs": [
    {
     "name": "stderr",
     "output_type": "stream",
     "text": [
      "100%|████████████████████████████████████████████████████████████████████████████████████| 149/149 [01:33<00:00,  1.59it/s]\n"
     ]
    }
   ],
   "source": [
    "\n",
    "dF = run_data.T\n",
    "pgain = pgains[2]\n",
    "sse = [np.sum(np.square(dF))]\n",
    "for k in tqdm.trange(1,150):\n",
    "    pg = pgain[:, :k].T\n",
    "    pgi = np.linalg.pinv(pg)\n",
    "    dFr = (dF @ pgi) @ pg\n",
    "    dFr /= dFr.ptp()\n",
    "    # dFr *= dF.ptp()\n",
    "    sse.append( np.sum(np.square(dFr - dF)) )\n",
    "sse = np.array(sse)"
   ]
  },
  {
   "cell_type": "code",
   "execution_count": 1,
   "id": "5036df98-c5d6-459b-bde1-622a5ead3a01",
   "metadata": {
    "tags": []
   },
   "outputs": [],
   "source": [
    "%config InlineBackend.figure_format='retina'"
   ]
  },
  {
   "cell_type": "code",
   "execution_count": 2,
   "id": "5dd6eaec-dbad-45ba-8643-7f469ac213be",
   "metadata": {
    "tags": []
   },
   "outputs": [
    {
     "ename": "NameError",
     "evalue": "name 'figure' is not defined",
     "output_type": "error",
     "traceback": [
      "\u001b[0;31m---------------------------------------------------------------------------\u001b[0m",
      "\u001b[0;31mNameError\u001b[0m                                 Traceback (most recent call last)",
      "Cell \u001b[0;32mIn[2], line 1\u001b[0m\n\u001b[0;32m----> 1\u001b[0m \u001b[43mfigure\u001b[49m(figsize\u001b[38;5;241m=\u001b[39m(\u001b[38;5;241m5\u001b[39m,\u001b[38;5;241m4\u001b[39m))\n\u001b[1;32m      2\u001b[0m plot(\u001b[38;5;241m100\u001b[39m\u001b[38;5;241m-\u001b[39msse\u001b[38;5;241m/\u001b[39msse\u001b[38;5;241m.\u001b[39mmax()\u001b[38;5;241m*\u001b[39m\u001b[38;5;241m100\u001b[39m)\n\u001b[1;32m      3\u001b[0m axhline(\u001b[38;5;241m100\u001b[39m\u001b[38;5;241m-\u001b[39mfull_sse \u001b[38;5;241m/\u001b[39m sse\u001b[38;5;241m.\u001b[39mmax()\u001b[38;5;241m*\u001b[39m\u001b[38;5;241m100\u001b[39m, color\u001b[38;5;241m=\u001b[39m\u001b[38;5;124m'\u001b[39m\u001b[38;5;124mr\u001b[39m\u001b[38;5;124m'\u001b[39m)\n",
      "\u001b[0;31mNameError\u001b[0m: name 'figure' is not defined"
     ]
    }
   ],
   "source": [
    "figure(figsize=(5,4))\n",
    "plot(100-sse/sse.max()*100)\n",
    "axhline(100-full_sse / sse.max()*100, color='r')\n",
    "grid(1)\n",
    "ylim([0,50])\n",
    "xlabel('# of cortical harmonics')\n",
    "ylabel('% variance reconstructed')\n",
    "legend(('Harmonics', '8004 vertex cortex'))"
   ]
  },
  {
   "cell_type": "markdown",
   "id": "9973701c-bcd7-4800-8d81-e17b3eadfb6d",
   "metadata": {},
   "source": [
    "actually this fits the results from the previous analysis, so it seems fine."
   ]
  },
  {
   "cell_type": "code",
   "execution_count": 133,
   "id": "1753bc64-c990-42a1-ad94-e8da0bac3f0a",
   "metadata": {
    "tags": []
   },
   "outputs": [],
   "source": [
    "igain = np.linalg.pinv(gain)"
   ]
  },
  {
   "cell_type": "code",
   "execution_count": 135,
   "id": "309ee8bd-f005-4726-9b2c-51138de88e40",
   "metadata": {
    "tags": []
   },
   "outputs": [
    {
     "data": {
      "text/plain": [
       "((8004, 246), (244670, 246))"
      ]
     },
     "execution_count": 135,
     "metadata": {},
     "output_type": "execute_result"
    }
   ],
   "source": [
    "igain.shape, dF.shape"
   ]
  },
  {
   "cell_type": "code",
   "execution_count": 137,
   "id": "c4caa9d1-37ef-4c00-9a2c-6b3ab8b501af",
   "metadata": {
    "tags": []
   },
   "outputs": [],
   "source": [
    "dFr = ((dF @ igain.T) @ gain.T).T\n",
    "dFr /= dFr.ptp()"
   ]
  },
  {
   "cell_type": "code",
   "execution_count": 138,
   "id": "ba0ee769-a311-41b0-b21a-c2dd13e0e122",
   "metadata": {
    "tags": []
   },
   "outputs": [],
   "source": [
    "full_sse = np.sum(np.square(dFr.T - dF))"
   ]
  },
  {
   "cell_type": "code",
   "execution_count": 142,
   "id": "befc04a2-3897-4dd5-bba9-9d89034d3643",
   "metadata": {
    "tags": []
   },
   "outputs": [
    {
     "data": {
      "text/plain": [
       "(7.107777504446888, 'per time point')"
      ]
     },
     "execution_count": 142,
     "metadata": {},
     "output_type": "execute_result"
    }
   ],
   "source": [
    "full_sse/dF.shape[0], 'per time point'"
   ]
  },
  {
   "cell_type": "markdown",
   "id": "0e7d4002-d99e-454d-822c-d6fb7a68c35b",
   "metadata": {},
   "source": [
    "now do that with Torch: the big matrix operations are much faster."
   ]
  },
  {
   "cell_type": "code",
   "execution_count": 168,
   "id": "38a8bf25-46e5-485b-a583-111e941d82a0",
   "metadata": {
    "tags": []
   },
   "outputs": [
    {
     "name": "stderr",
     "output_type": "stream",
     "text": [
      "100%|██████████████████████████████████████████████████████████████████████████████████████| 99/99 [00:04<00:00, 20.51it/s]\n",
      "100%|██████████████████████████████████████████████████████████████████████████████████████| 99/99 [00:04<00:00, 21.13it/s]\n",
      "100%|██████████████████████████████████████████████████████████████████████████████████████| 99/99 [00:05<00:00, 18.71it/s]\n",
      "100%|██████████████████████████████████████████████████████████████████████████████████████| 99/99 [00:04<00:00, 21.17it/s]\n"
     ]
    }
   ],
   "source": [
    "import torch\n",
    "\n",
    "dF = torch.tensor(run_data.T).to('mps')\n",
    "\n",
    "pgain = pgains[2]\n",
    "to_mps = lambda x: torch.tensor(x.astype('f')).to('mps')\n",
    "\n",
    "sses = []\n",
    "for i in range(4):\n",
    "    sse = [torch.sum(torch.square(dF))]\n",
    "    for k in tqdm.trange(1,100):\n",
    "        pg = pgains[i, :, :k].T\n",
    "        pgi = np.linalg.pinv(pg)\n",
    "        pg, pgi = to_mps(pg), to_mps(pgi)\n",
    "        dFr = (dF @ pgi) @ pg\n",
    "        dFr /= torch.max(dFr) - torch.min(dFr)\n",
    "        # dFr *= dF.ptp()\n",
    "        sse.append( torch.sum(torch.square(dFr - dF)) )\n",
    "    sse = torch.tensor(sse)\n",
    "    sses.append(sse)"
   ]
  },
  {
   "cell_type": "code",
   "execution_count": 173,
   "id": "195af671-d7b3-4727-aca9-7c24eafe0ee5",
   "metadata": {
    "tags": []
   },
   "outputs": [
    {
     "data": {
      "text/plain": [
       "<matplotlib.legend.Legend at 0x420b0bcd0>"
      ]
     },
     "execution_count": 173,
     "metadata": {},
     "output_type": "execute_result"
    },
    {
     "data": {
      "image/png": "[encoded data removed]",
      "text/plain": [
       "<Figure size 640x480 with 1 Axes>"
      ]
     },
     "metadata": {},
     "output_type": "display_data"
    }
   ],
   "source": [
    "sses = np.array(sses)\n",
    "axhline(100-full_sse / sses.T.max()*100, color='r')\n",
    "plot(100-sses.T/sses.max()*100, 'k')\n",
    "grid(1)\n",
    "ylim([0,50])\n",
    "xlabel('# of cortical harmonics')\n",
    "ylabel('% variance reconstructed')\n",
    "legend(('8004 vertex cortex', ))"
   ]
  },
  {
   "cell_type": "markdown",
   "id": "bb073118-f90c-42ea-9205-f16ad7cb4f1e",
   "metadata": {},
   "source": [
    "## move data to spectral domain\n",
    "\n",
    "So far, MEG data are in the time domain at sensor level.  A more compact representation easy for modeling purposes will be a short time Fourier or wavelet representation and in terms of mode coefficients.\n",
    "\n",
    "- https://pytorch-wavelets.readthedocs.io/en/latest/dwt.html\n",
    "\n",
    "This will reduce significantly the space taken up by the data and the compute required for modeling purposes."
   ]
  },
  {
   "cell_type": "code",
   "execution_count": null,
   "id": "37dd9744-65a2-4bd2-8680-6561693acb9a",
   "metadata": {},
   "outputs": [],
   "source": []
  }
 ],
 "metadata": {
  "kernelspec": {
   "display_name": "Python 3 (ipykernel)",
   "language": "python",
   "name": "python3"
  },
  "language_info": {
   "codemirror_mode": {
    "name": "ipython",
    "version": 3
   },
   "file_extension": ".py",
   "mimetype": "text/x-python",
   "name": "python",
   "nbconvert_exporter": "python",
   "pygments_lexer": "ipython3",
   "version": "3.11.5"
  }
 },
 "nbformat": 4,
 "nbformat_minor": 5
}
